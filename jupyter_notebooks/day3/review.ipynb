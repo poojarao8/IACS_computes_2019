{
 "cells": [
  {
   "cell_type": "markdown",
   "metadata": {},
   "source": [
    "# Day 2 Review\n",
    "\n",
    "Yesterday we looked at lists and for loops.\n",
    "\n",
    "## Lists"
   ]
  },
  {
   "cell_type": "code",
   "execution_count": 15,
   "metadata": {},
   "outputs": [
    {
     "name": "stdout",
     "output_type": "stream",
     "text": [
      "['unicorn', 'fairy', 'hippogriff', 'centaur', 'dragon']\n"
     ]
    }
   ],
   "source": [
    "# define a list \n",
    "my_list = [\"unicorn\", \"fairy\", \"hippogriff\", \"centaur\", \"dragon\"]\n",
    "print(my_list)"
   ]
  },
  {
   "cell_type": "code",
   "execution_count": 16,
   "metadata": {},
   "outputs": [
    {
     "name": "stdout",
     "output_type": "stream",
     "text": [
      "hippogriff\n"
     ]
    }
   ],
   "source": [
    "# access an element \n",
    "my_element = my_list[2]\n",
    "print(my_element)"
   ]
  },
  {
   "cell_type": "code",
   "execution_count": 17,
   "metadata": {},
   "outputs": [
    {
     "name": "stdout",
     "output_type": "stream",
     "text": [
      "['fairy', 'hippogriff', 'centaur']\n"
     ]
    }
   ],
   "source": [
    "# access a slice \n",
    "my_slice = my_list[1:4]\n",
    "print(my_slice)"
   ]
  },
  {
   "cell_type": "code",
   "execution_count": 18,
   "metadata": {},
   "outputs": [
    {
     "name": "stdout",
     "output_type": "stream",
     "text": [
      "['unicorn', 'hippogriff', 'dragon']\n"
     ]
    }
   ],
   "source": [
    "# a slice with steps. This accesses every other element in the list\n",
    "step_slice = my_list[::2]\n",
    "print(step_slice)"
   ]
  },
  {
   "cell_type": "code",
   "execution_count": 19,
   "metadata": {},
   "outputs": [
    {
     "name": "stdout",
     "output_type": "stream",
     "text": [
      "['unicorn', 'goblin', 'hippogriff', 'centaur', 'dragon']\n"
     ]
    }
   ],
   "source": [
    "# change an element\n",
    "my_list[1] = \"goblin\"\n",
    "print(my_list)"
   ]
  },
  {
   "cell_type": "code",
   "execution_count": 20,
   "metadata": {},
   "outputs": [
    {
     "name": "stdout",
     "output_type": "stream",
     "text": [
      "['unicorn', 'goblin', 'hippogriff', 'centaur', 'dragon', 'elf']\n"
     ]
    }
   ],
   "source": [
    "# add an element \n",
    "my_list.append(\"elf\")\n",
    "print(my_list)"
   ]
  },
  {
   "cell_type": "markdown",
   "metadata": {},
   "source": [
    "## For loops"
   ]
  },
  {
   "cell_type": "code",
   "execution_count": 21,
   "metadata": {},
   "outputs": [
    {
     "name": "stdout",
     "output_type": "stream",
     "text": [
      "0\n",
      "1\n",
      "2\n",
      "3\n",
      "4\n",
      "5\n",
      "6\n",
      "7\n",
      "8\n",
      "9\n"
     ]
    }
   ],
   "source": [
    "# iterate over numbers \n",
    "for i in range(10):\n",
    "    print(i)"
   ]
  },
  {
   "cell_type": "code",
   "execution_count": 23,
   "metadata": {},
   "outputs": [
    {
     "name": "stdout",
     "output_type": "stream",
     "text": [
      "Ahhh! It's a unicorn!\n",
      "Ahhh! It's a goblin!\n",
      "Ahhh! It's a hippogriff!\n",
      "Ahhh! It's a centaur!\n",
      "Ahhh! It's a dragon!\n",
      "Ahhh! It's a elf!\n"
     ]
    }
   ],
   "source": [
    "# iterate over lists \n",
    "for creature in my_list:\n",
    "    print(\"Ahhh! It's a {}!\".format(creature))"
   ]
  },
  {
   "cell_type": "code",
   "execution_count": 24,
   "metadata": {},
   "outputs": [
    {
     "name": "stdout",
     "output_type": "stream",
     "text": [
      "Look! It's a green unicorn!\n",
      "Look! It's a blue goblin!\n",
      "Look! It's a silver hippogriff!\n",
      "Look! It's a gold centaur!\n",
      "Look! It's a purple dragon!\n",
      "Look! It's a yellow elf!\n"
     ]
    }
   ],
   "source": [
    "# iterate over multiple lists at the same time\n",
    "colors = [\"green\", \"blue\", \"silver\", \"gold\", \"purple\", \"yellow\"]\n",
    "for color, creature in zip(colors, my_list):\n",
    "    print(\"Look! It's a {} {}!\".format(color, creature))"
   ]
  },
  {
   "cell_type": "code",
   "execution_count": 25,
   "metadata": {},
   "outputs": [
    {
     "name": "stdout",
     "output_type": "stream",
     "text": [
      "unicorn is element number 0\n",
      "goblin is element number 1\n",
      "hippogriff is element number 2\n",
      "centaur is element number 3\n",
      "dragon is element number 4\n",
      "elf is element number 5\n"
     ]
    }
   ],
   "source": [
    "# iterate over elements while keeping track of their indicies\n",
    "for i, creature in enumerate(my_list):\n",
    "    print(\"{} is element number {}\".format(creature, i))"
   ]
  },
  {
   "cell_type": "code",
   "execution_count": null,
   "metadata": {},
   "outputs": [],
   "source": []
  }
 ],
 "metadata": {
  "kernelspec": {
   "display_name": "Python 3",
   "language": "python",
   "name": "python3"
  },
  "language_info": {
   "codemirror_mode": {
    "name": "ipython",
    "version": 3
   },
   "file_extension": ".py",
   "mimetype": "text/x-python",
   "name": "python",
   "nbconvert_exporter": "python",
   "pygments_lexer": "ipython3",
   "version": "3.6.9"
  }
 },
 "nbformat": 4,
 "nbformat_minor": 2
}
