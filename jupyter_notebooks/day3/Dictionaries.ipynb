{
 "cells": [
  {
   "cell_type": "markdown",
   "metadata": {},
   "source": [
    "# Dictionaries"
   ]
  },
  {
   "cell_type": "markdown",
   "metadata": {},
   "source": [
    "Now, we'll have an opportunity to look over one of the last fundamental types of data structures that we'll cover.\n",
    "What is a *dictionary*? In computer science, a dictionary is a type of data structure (like a list or tuple) that allows you to access elements using a *key* (e.g. instead of accessing them by their index). \n",
    "\n",
    "In Python, dictionaries are defined using curly braces `{ }`. (Remember we defined lists with square brackets `[ ]` and tuples with parenthesis `( )`).\n",
    "\n",
    "We can define a dictionary as follows:"
   ]
  },
  {
   "cell_type": "code",
   "execution_count": 1,
   "metadata": {},
   "outputs": [],
   "source": [
    "oxford_dict = {'person' : 'a human being',\n",
    "               'marathon' : 'a running race that is about 26 miles',\n",
    "               'resist' : 'to remain strong against the force',\n",
    "               'run' : 'to move with haste; act quickly'}"
   ]
  },
  {
   "cell_type": "markdown",
   "metadata": {},
   "source": [
    "Like a list, a dictionary is a collection of many values. But unlike indices for lists, dictionary keys can take the form of many different data types, not just integers. Each dictionary key is associated with a particular *value* in the dictionary, and together they make up a *key-value pair*."
   ]
  },
  {
   "cell_type": "markdown",
   "metadata": {},
   "source": [
    "The dictionary above, `oxford_dict`, used strings as keys, but dictionary keys can be any **immutable** data type. You may remember from before that tuples and strings are both instances of immutable data types, which means that they  can't be changed after they have been created. _Mutable_ data types are the opposite - you can modify them whenever you want to. \n",
    "\n",
    "You may be surprised to hear that numbers (integers, floats...) are also classed as immutable data types. Why is that?? If we assign some number to a variable, then try to change that number, we are not in fact changing the original number - we are effectively replacing it with a new number. The original number has not been changed, but overwritten. This is pretty subtle stuff, and at this point we don't really need to understand *why* numbers are classed as immutable. The important bit is that they are and therefore we can use them as keys in dictionaries!"
   ]
  },
  {
   "cell_type": "markdown",
   "metadata": {},
   "source": [
    "### Back to dictionaries"
   ]
  },
  {
   "cell_type": "markdown",
   "metadata": {},
   "source": [
    "Dictionary values can be just about anything (integers, lists, functions, strings, etc.).\n",
    "\n",
    "For example, the dictionary below, `switch_dict`, has integerss as keys and strings as values:"
   ]
  },
  {
   "cell_type": "code",
   "execution_count": 3,
   "metadata": {},
   "outputs": [],
   "source": [
    "# Define a dictionary\n",
    "switch_dict = {1 : 'off',\n",
    "               0 : 'on'}"
   ]
  },
  {
   "cell_type": "code",
   "execution_count": 4,
   "metadata": {},
   "outputs": [
    {
     "data": {
      "text/plain": [
       "'on'"
      ]
     },
     "execution_count": 4,
     "metadata": {},
     "output_type": "execute_result"
    }
   ],
   "source": [
    "switch_dict[0]"
   ]
  },
  {
   "cell_type": "markdown",
   "metadata": {},
   "source": [
    "On the other hand, `age_dict` has strings as keys and integers as values:"
   ]
  },
  {
   "cell_type": "code",
   "execution_count": 4,
   "metadata": {},
   "outputs": [
    {
     "ename": "KeyError",
     "evalue": "1",
     "output_type": "error",
     "traceback": [
      "\u001b[0;31m---------------------------------------------------------------------------\u001b[0m",
      "\u001b[0;31mKeyError\u001b[0m                                  Traceback (most recent call last)",
      "\u001b[0;32m<ipython-input-4-ccccd08cc701>\u001b[0m in \u001b[0;36m<module>\u001b[0;34m\u001b[0m\n\u001b[1;32m      4\u001b[0m             'Timmy' : 15}\n\u001b[1;32m      5\u001b[0m \u001b[0;34m\u001b[0m\u001b[0m\n\u001b[0;32m----> 6\u001b[0;31m \u001b[0mage_dict\u001b[0m\u001b[0;34m[\u001b[0m\u001b[0;36m1\u001b[0m\u001b[0;34m]\u001b[0m\u001b[0;34m\u001b[0m\u001b[0;34m\u001b[0m\u001b[0m\n\u001b[0m",
      "\u001b[0;31mKeyError\u001b[0m: 1"
     ]
    }
   ],
   "source": [
    "age_dict = {'John' : 22, \n",
    "            'Bob' : 47,\n",
    "            'Susan' : 63,\n",
    "            'Timmy' : 15}\n",
    "\n",
    "age_dict['John'] "
   ]
  },
  {
   "cell_type": "markdown",
   "metadata": {},
   "source": [
    "Notice that, in comparison with lists or tuples, where, for example, `listname[3]` meant \"the element of the list in position 3\", in a dictionary `agedict['John']` means \"the value in the dictionary corresponding to key 'John'.\"\n",
    "\n",
    "Dictionaries do not naturally have an order, so it does not make sense for us to look for, say, a first element of a dictionary."
   ]
  },
  {
   "cell_type": "markdown",
   "metadata": {},
   "source": [
    "What about lists? Can I use a list as a key?"
   ]
  },
  {
   "cell_type": "code",
   "execution_count": 5,
   "metadata": {},
   "outputs": [
    {
     "ename": "TypeError",
     "evalue": "unhashable type: 'list'",
     "output_type": "error",
     "traceback": [
      "\u001b[0;31m---------------------------------------------------------------------------\u001b[0m",
      "\u001b[0;31mTypeError\u001b[0m                                 Traceback (most recent call last)",
      "\u001b[0;32m<ipython-input-5-9fe13a886d13>\u001b[0m in \u001b[0;36m<module>\u001b[0;34m\u001b[0m\n\u001b[1;32m      2\u001b[0m                 \u001b[0;36m1\u001b[0m \u001b[0;34m:\u001b[0m \u001b[0;34m'ints can be keys'\u001b[0m\u001b[0;34m,\u001b[0m\u001b[0;34m\u001b[0m\u001b[0;34m\u001b[0m\u001b[0m\n\u001b[1;32m      3\u001b[0m                 \u001b[0;34m'run'\u001b[0m \u001b[0;34m:\u001b[0m \u001b[0;34m'strings can be keys'\u001b[0m\u001b[0;34m,\u001b[0m\u001b[0;34m\u001b[0m\u001b[0;34m\u001b[0m\u001b[0m\n\u001b[0;32m----> 4\u001b[0;31m                 ['a', 'list']: 'but can lists be keys?'}\n\u001b[0m\u001b[1;32m      5\u001b[0m \u001b[0;34m\u001b[0m\u001b[0m\n\u001b[1;32m      6\u001b[0m \u001b[0mprint\u001b[0m\u001b[0;34m(\u001b[0m\u001b[0mbootleg_dict\u001b[0m\u001b[0;34m)\u001b[0m\u001b[0;34m\u001b[0m\u001b[0;34m\u001b[0m\u001b[0m\n",
      "\u001b[0;31mTypeError\u001b[0m: unhashable type: 'list'"
     ]
    }
   ],
   "source": [
    "bootleg_dict = {2.0 : 'floats can be keys',\n",
    "                1 : 'ints can be keys',\n",
    "                'run' : 'strings can be keys',\n",
    "                ['a', 'list']: 'but can lists be keys?'}\n",
    "\n",
    "print(bootleg_dict)"
   ]
  },
  {
   "cell_type": "markdown",
   "metadata": {},
   "source": [
    "Nope! Lists are mutable. However, we could use a tuple instead, as they are immutable (I promised you we'd find a use for them)!"
   ]
  },
  {
   "cell_type": "code",
   "execution_count": 8,
   "metadata": {},
   "outputs": [
    {
     "name": "stdout",
     "output_type": "stream",
     "text": [
      "{2.0: 'floats can be keys', 1: 'ints can be keys', 'run': 'strings can be keys', ('a', 'tuple'): 'tuples can be keys'}\n"
     ]
    }
   ],
   "source": [
    "bootleg_dict = {2.0 : 'floats can be keys',\n",
    "                1 : 'ints can be keys',\n",
    "                'run' : 'strings can be keys',\n",
    "                ('a', 'tuple') : 'tuples can be keys'}\n",
    "\n",
    "print(bootleg_dict)"
   ]
  },
  {
   "cell_type": "code",
   "execution_count": 10,
   "metadata": {},
   "outputs": [
    {
     "name": "stdout",
     "output_type": "stream",
     "text": [
      "My cat is so loud!\n"
     ]
    }
   ],
   "source": [
    "# One more example using attributes\n",
    "myCat = {'size': 'huge', 'color': 'gray', 'disposition': 'loud'}\n",
    "print('My cat is so ' + myCat['disposition'] + \"!\")"
   ]
  },
  {
   "cell_type": "markdown",
   "metadata": {},
   "source": [
    "## Dictionaries vs. Lists"
   ]
  },
  {
   "cell_type": "markdown",
   "metadata": {},
   "source": [
    "Unlike lists, items in dictionaries are unordered. The first item in a list named `spam` would be `spam[0]`. But there is no “first” item in a dictionary. While the order of items matters for determining whether two lists are the same, it does not matter in what order the key-value pairs are typed in a dictionary. Try running this cell:"
   ]
  },
  {
   "cell_type": "code",
   "execution_count": 7,
   "metadata": {},
   "outputs": [],
   "source": [
    "spam = ['cats', 'dogs', 'moose']\n",
    "bacon = ['dogs', 'moose', 'cats']\n",
    "\n",
    "eggs = {'name': 'Mr. Bigglesworth', 'species': 'cat', 'age': '8'}\n",
    "ham = {'species': 'cat', 'age': '8', 'name': 'Mr. Bigglesworth'}\n"
   ]
  },
  {
   "cell_type": "markdown",
   "metadata": {},
   "source": [
    "Because dictionaries are not ordered, they also can’t be sliced like lists.\n",
    "\n",
    "Trying to access a key that does not exist in a dictionary will result in a `KeyError` error message, much like a list’s “out-of-range” `IndexError` error message. Run the next cell, and notice the error message that shows up because there is no `'color'` key:"
   ]
  },
  {
   "cell_type": "code",
   "execution_count": 8,
   "metadata": {},
   "outputs": [
    {
     "ename": "KeyError",
     "evalue": "'color'",
     "output_type": "error",
     "traceback": [
      "\u001b[0;31m---------------------------------------------------------------------------\u001b[0m",
      "\u001b[0;31mKeyError\u001b[0m                                  Traceback (most recent call last)",
      "\u001b[0;32m<ipython-input-8-cbdb4186d4f0>\u001b[0m in \u001b[0;36m<module>\u001b[0;34m\u001b[0m\n\u001b[0;32m----> 1\u001b[0;31m \u001b[0meggs\u001b[0m\u001b[0;34m[\u001b[0m\u001b[0;34m'color'\u001b[0m\u001b[0;34m]\u001b[0m\u001b[0;34m\u001b[0m\u001b[0;34m\u001b[0m\u001b[0m\n\u001b[0m",
      "\u001b[0;31mKeyError\u001b[0m: 'color'"
     ]
    }
   ],
   "source": [
    "eggs['color']"
   ]
  },
  {
   "cell_type": "markdown",
   "metadata": {},
   "source": [
    "Actually, the ability to have arbitrary values for the keys allows you to organize your data in powerful ways. \n",
    "\n",
    "Say you wanted your program to store data about your friends’ birthdays. You can use a dictionary with the names as keys and the birthdays as values:"
   ]
  },
  {
   "cell_type": "code",
   "execution_count": 9,
   "metadata": {},
   "outputs": [
    {
     "name": "stdout",
     "output_type": "stream",
     "text": [
      "Enter a name: (blank to quit)\n",
      "Joe\n",
      "I do not have birthday information for Joe\n",
      "What is their birthday?\n",
      "February 32\n",
      "Birthday database updated.\n",
      "Enter a name: (blank to quit)\n",
      "Pooja\n",
      "I do not have birthday information for Pooja\n",
      "What is their birthday?\n",
      "Tomorrow\n",
      "Birthday database updated.\n",
      "Enter a name: (blank to quit)\n",
      "Pooja\n",
      "Tomorrow is the birthday of Pooja\n",
      "Enter a name: (blank to quit)\n",
      "\n"
     ]
    }
   ],
   "source": [
    "birthdays = {'Alice': 'Apr 1', 'Bob': 'Dec 12', 'Carol': 'Mar 4'}\n",
    "\n",
    "while True:\n",
    "    print('Enter a name: (blank to quit)')\n",
    "    name = input()\n",
    "    if name == '':\n",
    "        break\n",
    "\n",
    "    if name in birthdays:\n",
    "        print(birthdays[name] + ' is the birthday of ' + name)\n",
    "    else:\n",
    "        print('I do not have birthday information for ' + name)\n",
    "        print('What is their birthday?')\n",
    "        bday = input()\n",
    "        birthdays[name] = bday\n",
    "        print('Birthday database updated.')"
   ]
  },
  {
   "cell_type": "markdown",
   "metadata": {},
   "source": [
    "## Practice tiiiime!\n",
    "Given this dictionary, try to do the following:\n",
    "- Add a key to inventory called `pocket`.\n",
    "- Set the value of `pocket` to be a list consisting of the strings `seashell`, `strange berry`, and `lint`.\n",
    "- Sort the items in the list stored under the `backpack` key. (Hint: you can sort a list `a` using the function `a.sort()`)\n",
    "- Remove `dagger` from the list of items stored under the `backpack` key. \n",
    "- Give yourself 50 `gold` from the sale of this `dagger`. "
   ]
  },
  {
   "cell_type": "code",
   "execution_count": null,
   "metadata": {},
   "outputs": [],
   "source": [
    "inventory = {\n",
    "    'gold' : 500,\n",
    "    'pouch' : ['flint', 'twine', 'gemstone'],\n",
    "    'backpack' : ['xylophone','dagger', 'bedroll','bread loaf']\n",
    "}"
   ]
  },
  {
   "cell_type": "code",
   "execution_count": null,
   "metadata": {},
   "outputs": [],
   "source": []
  },
  {
   "cell_type": "markdown",
   "metadata": {},
   "source": [
    "## What _else_ can we do with dictionaries?"
   ]
  },
  {
   "cell_type": "code",
   "execution_count": null,
   "metadata": {},
   "outputs": [],
   "source": [
    "age_dict = {'John' : 22, \n",
    "          'Bob' : 47,\n",
    "          'Susan' : 63,\n",
    "          'Timmy' : 15}"
   ]
  },
  {
   "cell_type": "code",
   "execution_count": null,
   "metadata": {},
   "outputs": [],
   "source": [
    "len(age_dict)"
   ]
  },
  {
   "cell_type": "code",
   "execution_count": null,
   "metadata": {},
   "outputs": [],
   "source": [
    "print(age_dict)\n",
    "age_dict['Timmy'] = 14\n",
    "print(ageDict)"
   ]
  },
  {
   "cell_type": "markdown",
   "metadata": {},
   "source": [
    "There are three dictionary methods that will return list-like values of the dictionary's keys, values, or both keys and values: `keys()`, `values()`, and `items()`. \n",
    "\n",
    "The values returned by these methods are not true lists: they cannot be modified and do not have an append() method. But these data types (`dict_keys`, `dict_values`, and `dict_items`, respectively) can be used in for loops. \n",
    "\n",
    "To begin seeing how these methods work, run the next cell.\n",
    "\n",
    "Here, a `for` loop iterates over each of the **values** in the `cheese` dictionary:"
   ]
  },
  {
   "cell_type": "code",
   "execution_count": null,
   "metadata": {},
   "outputs": [],
   "source": [
    "cheese = {'color': 'yellow', 'age': 42}\n",
    "\n",
    "for v in cheese.values():\n",
    "    print(v)"
   ]
  },
  {
   "cell_type": "markdown",
   "metadata": {},
   "source": [
    "A `for` loop can also iterate over the **keys**...:"
   ]
  },
  {
   "cell_type": "code",
   "execution_count": null,
   "metadata": {},
   "outputs": [],
   "source": [
    "for k in cheese.keys():\n",
    "        print(k)"
   ]
  },
  {
   "cell_type": "markdown",
   "metadata": {},
   "source": [
    "OR **both** keys **and** values:"
   ]
  },
  {
   "cell_type": "code",
   "execution_count": null,
   "metadata": {},
   "outputs": [],
   "source": [
    "for k in cheese.items():\n",
    "        print(k)"
   ]
  },
  {
   "cell_type": "markdown",
   "metadata": {},
   "source": [
    "If you want one of these methods to return a list, then it's necessary to use the `list()` function to cast it was a list. For example:"
   ]
  },
  {
   "cell_type": "code",
   "execution_count": null,
   "metadata": {},
   "outputs": [],
   "source": [
    "print(cheese.keys())\n",
    "\n",
    "print(list(cheese.keys()))"
   ]
  },
  {
   "cell_type": "markdown",
   "metadata": {},
   "source": [
    "You can also use the multiple assignment trick in a `for` loop to assign the key and value to separate variables, like so:"
   ]
  },
  {
   "cell_type": "code",
   "execution_count": null,
   "metadata": {},
   "outputs": [],
   "source": [
    "for k, v in cheese.items():\n",
    "        print('Key: ' + k + ' Value: ' + str(v))"
   ]
  },
  {
   "cell_type": "markdown",
   "metadata": {},
   "source": [
    "Remember how the `in` and `not in` operators can check whether a value exists in a list? So far, we have used these when looking at strings, however you can also use them to see whether a certain key or value exists in a dictionary:"
   ]
  },
  {
   "cell_type": "code",
   "execution_count": null,
   "metadata": {},
   "outputs": [],
   "source": [
    "cat = {'name': 'Mr.Bigglesworth', 'age': 8}\n",
    "print('name' in cat.keys())\n",
    "print('Mr.Bigglesworth' in cat.values())\n",
    "print('color' in cat.keys())\n",
    "print('color' not in cat.keys())\n",
    "print('color' in cat)"
   ]
  },
  {
   "cell_type": "markdown",
   "metadata": {},
   "source": [
    "Notice that `'color' in cat` is essentially equivalent to `'color' in cat.keys()`. This is always the case: if you ever want to check whether a value is (or isn’t) a key in the dictionary, you can simply use the `in` (or `not in`) keyword with the dictionary value itself.\n",
    "\n",
    "#### get()\n",
    "\n",
    "It's tedious to check whether a key exists in a dictionary before accessing that key's value. Fortunately, dictionaries have a `get()` method that takes two arguments: the key of the value to retrieve, and a fallback value to return if that key does not exist."
   ]
  },
  {
   "cell_type": "code",
   "execution_count": 1,
   "metadata": {},
   "outputs": [
    {
     "name": "stdout",
     "output_type": "stream",
     "text": [
      "I am bringing 2 cups.\n",
      "I am bringing 0 eggs.\n"
     ]
    }
   ],
   "source": [
    "picnic_items = {'apples': 1, \n",
    "               'cups': 2,\n",
    "               'bread' : 7}\n",
    "print('I am bringing ' + str(picnic_items.get('cups', 0)) + ' cups.')\n",
    "print('I am bringing ' + str(picnic_items.get('eggs', 0)) + ' eggs.')"
   ]
  },
  {
   "cell_type": "markdown",
   "metadata": {},
   "source": [
    "Because there is no `'eggs'` key in the `picnic_items` dictionary, the default value 0 is returned by the `get()` method. What happens if I don't want to use `get()`?"
   ]
  },
  {
   "cell_type": "code",
   "execution_count": 3,
   "metadata": {},
   "outputs": [
    {
     "ename": "KeyError",
     "evalue": "'eggs'",
     "output_type": "error",
     "traceback": [
      "\u001b[0;31m---------------------------------------------------------------------------\u001b[0m",
      "\u001b[0;31mKeyError\u001b[0m                                  Traceback (most recent call last)",
      "\u001b[0;32m<ipython-input-3-48aeb831060d>\u001b[0m in \u001b[0;36m<module>\u001b[0;34m\u001b[0m\n\u001b[0;32m----> 1\u001b[0;31m \u001b[0mprint\u001b[0m\u001b[0;34m(\u001b[0m\u001b[0;34m'I am bringing '\u001b[0m \u001b[0;34m+\u001b[0m \u001b[0mstr\u001b[0m\u001b[0;34m(\u001b[0m\u001b[0mpicnic_items\u001b[0m\u001b[0;34m[\u001b[0m\u001b[0;34m'eggs'\u001b[0m\u001b[0;34m]\u001b[0m\u001b[0;34m)\u001b[0m \u001b[0;34m+\u001b[0m \u001b[0;34m' eggs.'\u001b[0m\u001b[0;34m)\u001b[0m\u001b[0;34m\u001b[0m\u001b[0;34m\u001b[0m\u001b[0m\n\u001b[0m",
      "\u001b[0;31mKeyError\u001b[0m: 'eggs'"
     ]
    }
   ],
   "source": [
    "print('I am bringing ' + str(picnic_items['eggs']) + ' eggs.')"
   ]
  },
  {
   "cell_type": "markdown",
   "metadata": {},
   "source": [
    "### Pretty printing\n",
    "\n",
    "If you import the `pprint` module into your programs, you’ll have access to the `pprint()` and `pformat()` functions that will 'pretty print' a dictionary’s values. This is helpful when you want a cleaner display of the items in a dictionary than what `print()` provides."
   ]
  },
  {
   "cell_type": "code",
   "execution_count": 4,
   "metadata": {},
   "outputs": [
    {
     "ename": "NameError",
     "evalue": "name 'inventory' is not defined",
     "output_type": "error",
     "traceback": [
      "\u001b[0;31m---------------------------------------------------------------------------\u001b[0m",
      "\u001b[0;31mNameError\u001b[0m                                 Traceback (most recent call last)",
      "\u001b[0;32m<ipython-input-4-d11e485ecd85>\u001b[0m in \u001b[0;36m<module>\u001b[0;34m\u001b[0m\n\u001b[1;32m      1\u001b[0m \u001b[0;32mimport\u001b[0m \u001b[0mpprint\u001b[0m\u001b[0;34m\u001b[0m\u001b[0;34m\u001b[0m\u001b[0m\n\u001b[0;32m----> 2\u001b[0;31m \u001b[0mpprint\u001b[0m\u001b[0;34m.\u001b[0m\u001b[0mpprint\u001b[0m\u001b[0;34m(\u001b[0m\u001b[0minventory\u001b[0m\u001b[0;34m)\u001b[0m\u001b[0;34m\u001b[0m\u001b[0;34m\u001b[0m\u001b[0m\n\u001b[0m",
      "\u001b[0;31mNameError\u001b[0m: name 'inventory' is not defined"
     ]
    }
   ],
   "source": [
    "import pprint\n",
    "pprint.pprint(inventory)"
   ]
  },
  {
   "cell_type": "code",
   "execution_count": 5,
   "metadata": {},
   "outputs": [
    {
     "name": "stdout",
     "output_type": "stream",
     "text": [
      "{'apples': 1,\n",
      "'bread': 7,\n",
      "'cups': 2}\n"
     ]
    }
   ],
   "source": [
    "import pprint\n",
    "pp = pprint.PrettyPrinter(indent=0,width=20)\n",
    "pp.pprint(picnic_items)"
   ]
  },
  {
   "cell_type": "markdown",
   "metadata": {},
   "source": [
    "# Practice Problems"
   ]
  },
  {
   "cell_type": "markdown",
   "metadata": {},
   "source": [
    "### Exercise 1\n",
    "\n",
    "There are 36 possible combinations of two dice. A simple pair of loops over each die's number of sides will enumerate all combinations. The sum of the two dice is more interesting than the actual combination. Create a dict of all combinations, using the sum of the two dice as the key.\n",
    "\n",
    "Each value in the dict should be a list of tuples; each tuple has the value of two dice. The general outline is something like the following:"
   ]
  },
  {
   "cell_type": "raw",
   "metadata": {},
   "source": [
    "d = {}\n",
    "Loop with d1 from 1 to 6\n",
    "    Loop with d2 from 1 to 6\n",
    "        newTuple ← ( d1, d2 ) # create the tuple\n",
    "        oldList ← dictionary entry for sum d1+d2\n",
    "        newList ← oldList + newTuple\n",
    "        replace entry in dictionary with newList\n",
    "\n",
    "Loop over all values in the dictionary\n",
    "    print the key and the length of the list"
   ]
  },
  {
   "cell_type": "code",
   "execution_count": null,
   "metadata": {},
   "outputs": [],
   "source": [
    "# your code here"
   ]
  },
  {
   "cell_type": "markdown",
   "metadata": {},
   "source": [
    "### Exercise 2\n",
    "\n",
    "You work at a frozen yogurt shop, and your boss is making you grab some bananas, oranges, and apples. Make a grocery list. Then, using the following information from the supermarket, define a integer called `computed_bill` using a dictionary `grocery_list` to indicate how many items of each type should be bought."
   ]
  },
  {
   "cell_type": "raw",
   "metadata": {},
   "source": [
    "grocery_list = {\n",
    "    \"banana\": 4,\n",
    "    \"apple\": 8,\n",
    "    \"orange\": 12,\n",
    "    \"pear\": 0\n",
    "}\n",
    "\n",
    "stock = {\n",
    "    \"banana\": 6,\n",
    "    \"apple\": 0,\n",
    "    \"orange\": 32,\n",
    "    \"pear\": 15\n",
    "}\n",
    "\n",
    "prices = {\n",
    "    \"banana\": 4,\n",
    "    \"apple\": 2,\n",
    "    \"orange\": 1.5,\n",
    "    \"pear\": 3\n",
    "}"
   ]
  },
  {
   "cell_type": "markdown",
   "metadata": {},
   "source": [
    "For each item in your grocery list, add that item's price to your bill total. At the end, return the total. Your computation should be able to work for any grocery list that contains the items in the store.\n",
    "\n",
    "After you have this working, modify this calculation to only add the price of the item to your total if the item is in stock, and, if more items are desired than are in stock, to buy as many as possible. Then, subtract the items from the store's stock."
   ]
  },
  {
   "cell_type": "code",
   "execution_count": 6,
   "metadata": {},
   "outputs": [],
   "source": [
    "# your code here"
   ]
  },
  {
   "cell_type": "markdown",
   "metadata": {},
   "source": [
    "### Exercise 3\n",
    "\n",
    "Compute the number of times each word occurs. \n",
    "\n",
    "For the text below,\n",
    "\n",
    "a) Clean punctuation and transform all words to lower case.\n",
    "\n",
    "b) Output a list of word count pairs sorted from highest to lowest count."
   ]
  },
  {
   "cell_type": "code",
   "execution_count": null,
   "metadata": {},
   "outputs": [],
   "source": [
    "beemoviescript = \"\"\"\n",
    "According to all known laws of aviation, there is no way a bee should be able to fly. Its wings are too small to get its fat little body off the ground. The bee, of course, flies anyway because bees don't care what humans think is impossible. Yellow, black. Yellow, black. Yellow, black. Yellow, black. Ooh, black and yellow! Let's shake it up a little. Barry! Breakfast is ready! Ooming! Hang on a second. Hello? - Barry? - Adam? - Oan you believe this is happening? - I can't. I'll pick you up. Looking sharp. Use the stairs. Your father paid good money for those. Sorry. I'm excited. Here's the graduate. We're very proud of you, son. A perfect report card, all B's. Very proud. Ma! I got a thing going here. - You got lint on your fuzz. - Ow! That's me! - Wave to us! We'll be in row 118,000. - Bye! Barry, I told you, stop flying in the house! - Hey, Adam. - Hey, Barry. - Is that fuzz gel? - A little. Special day, graduation. Never thought I'd make it. Three days grade school, three days high school. Those were awkward. Three days college. I'm glad I took a day and hitchhiked around the hive. You did come back different. - Hi, Barry. - Artie, growing a mustache? Looks good. - Hear about Frankie? - Yeah. - You going to the funeral? - No, I'm not going. Everybody knows, sting someone, you die. Don't waste it on a squirrel. Such a hothead. I guess he could have just gotten out of the way. I love this incorporating an amusement park into our day. That's why we don't need vacations. Boy, quite a bit of pomp... under the circumstances. - Well, Adam, today we are men. - We are! - Bee-men. - Amen! Hallelujah! Students, faculty, distinguished bees, please welcome Dean Buzzwell. Welcome, New Hive Oity graduating class of... ...9:15. That concludes our ceremonies. And begins your career at Honex Industries! Will we pick ourjob today? I heard it's just orientation. Heads up! Here we go. Keep your hands and antennas inside the tram at all times. - Wonder what it'll be like? - A little scary. Welcome to Honex, a division of Honesco and a part of the Hexagon Group. This is it! Wow. Wow. We know that you, as a bee, have worked your whole life to get to the point where you can work for your whole life. Honey begins when our valiant Pollen Jocks bring the nectar to the hive. Our top-secret formula is automatically color-corrected, scent-adjusted and bubble-contoured into this soothing sweet syrup with its distinctive golden glow you know as... Honey! - That girl was hot. - She's my cousin! - She is? - Yes, we're all cousins. - Right. You're right. - At Honex, we constantly strive to improve every aspect of bee existence. These bees are stress-testing a new helmet technology. - What do you think he makes? - Not enough. Here we have our latest advancement, the Krelman. - What does that do? - Oatches that little strand of honey that hangs after you pour it. Saves us millions. Oan anyone work on the Krelman? Of course. Most bee jobs are small ones. But bees know that every small job, if it's done well, means a lot. But choose carefully because you'll stay in the job you pick for the rest of your life. The same job the rest of your life? I didn't know that. What's the difference? You'll be happy to know that bees, as a species, haven't had one day off in 27 million years. So you'll just work us to death? We'll sure try. Wow! That blew my mind! \"What's the difference?\" How can you say that? One job forever? That's an insane choice to have to make. I'm relieved. Now we only have to make one decision in life. But, Adam, how could they never have told us that? Why would you question anything? We're bees. We're the most perfectly functioning society on Earth. You ever think maybe things work a little too well here? Like what? Give me one example. I don't know. But you know what I'm talking about. Please clear the gate. Royal Nectar Force on approach. Wait a second. Check it out. - Hey, those are Pollen Jocks! - Wow. I've never seen them this close. They know what it's like outside the hive. Yeah, but some don't come back. - Hey, Jocks! - Hi, Jocks! You guys did great! You're monsters! You're sky freaks! I love it! I love it! - I wonder where they were. - I don't know. Their day's not planned. Outside the hive, flying who knows where, doing who knows what. You can't just decide to be a Pollen Jock. You have to be bred for that. Right. Look. That's more pollen than you and I will see in a lifetime. \"\"\""
   ]
  },
  {
   "cell_type": "code",
   "execution_count": null,
   "metadata": {},
   "outputs": [],
   "source": [
    "# your code"
   ]
  },
  {
   "cell_type": "markdown",
   "metadata": {},
   "source": [
    "### Exercise 4\n",
    "\n",
    "A common way to construct dictionaries is to transform a list of lists into one.  Given a list `L` where each element of the list is itself a list with 2 elements, convert the list into a dictionary.  In particular, if my list is `L = [[1,'hats'], [True,42], ['foo','bar']]`, then the resulting dictionary should be `dictL = { 1 : 'hats', True : 42, 'foo' : 'bar'}`"
   ]
  },
  {
   "cell_type": "code",
   "execution_count": null,
   "metadata": {},
   "outputs": [],
   "source": []
  },
  {
   "cell_type": "markdown",
   "metadata": {},
   "source": [
    "### Exercise 5\n",
    "\n",
    "Rewrite your code from day 1 which printed all pairs of divisors of a given number `n` so that it now produces a dictionary where each first element of a pair of divisors is a key with value given by the second element of the pair of divisors.\n",
    "\n",
    "For example, if `n = 4`, then we should obtain `result = {1 : 4, 2 : 2, 4 : 1}`"
   ]
  },
  {
   "cell_type": "code",
   "execution_count": null,
   "metadata": {},
   "outputs": [],
   "source": []
  }
 ],
 "metadata": {
  "kernelspec": {
   "display_name": "Python 3",
   "language": "python",
   "name": "python3"
  },
  "language_info": {
   "codemirror_mode": {
    "name": "ipython",
    "version": 3
   },
   "file_extension": ".py",
   "mimetype": "text/x-python",
   "name": "python",
   "nbconvert_exporter": "python",
   "pygments_lexer": "ipython3",
   "version": "3.6.9"
  }
 },
 "nbformat": 4,
 "nbformat_minor": 2
}
