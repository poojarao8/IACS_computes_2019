{
 "cells": [
  {
   "cell_type": "markdown",
   "metadata": {},
   "source": [
    "# Day 5 practice"
   ]
  },
  {
   "cell_type": "markdown",
   "metadata": {},
   "source": [
    "## Counting Gettysburg\n",
    "\n",
    "Here's some text (the Gettysburg Address). Our goal is to count how many times each word repeats."
   ]
  },
  {
   "cell_type": "code",
   "execution_count": null,
   "metadata": {},
   "outputs": [],
   "source": [
    "gettysburg_address = \"\"\"\n",
    "Four score and seven years ago our fathers brought forth on this continent, \n",
    "a new nation, conceived in Liberty, and dedicated to the proposition that \n",
    "all men are created equal.\n",
    "\n",
    "Now we are engaged in a great civil war, testing whether that nation, or \n",
    "any nation so conceived and so dedicated, can long endure. We are met on\n",
    "a great battle-field of that war. We have come to dedicate a portion of\n",
    "that field, as a final resting place for those who here gave their lives\n",
    "that that nation might live. It is altogether fitting and proper that we\n",
    "should do this.\n",
    "\n",
    "But, in a larger sense, we can not dedicate -- we can not consecrate -- we\n",
    "can not hallow -- this ground. The brave men, living and dead, who struggled\n",
    "here, have consecrated it, far above our poor power to add or detract.  The\n",
    "world will little note, nor long remember what we say here, but it can never\n",
    "forget what they did here. It is for us the living, rather, to be dedicated\n",
    "here to the unfinished work which they who fought here have thus far so nobly\n",
    "advanced. It is rather for us to be here dedicated to the great task remaining\n",
    "before us -- that from these honored dead we take increased devotion to that\n",
    "cause for which they gave the last full measure of devotion -- that we here\n",
    "highly resolve that these dead shall not have died in vain -- that this\n",
    "nation, under God, shall have a new birth of freedom -- and that government\n",
    "of the people, by the people, for the people, shall not perish from the earth.\n",
    "\"\"\""
   ]
  },
  {
   "cell_type": "markdown",
   "metadata": {},
   "source": [
    "We've already seen the `.split()` method will, by default, split by spaces. Try this to count the number of words:"
   ]
  },
  {
   "cell_type": "code",
   "execution_count": null,
   "metadata": {},
   "outputs": [],
   "source": []
  },
  {
   "cell_type": "markdown",
   "metadata": {},
   "source": [
    "Now, the next problem is that some of these still have punctuation. In particular, we see \".\", \",\", and \"--\".\n",
    "When considering a word, we can get rid of these by using the `replace()` method. Try this here:"
   ]
  },
  {
   "cell_type": "code",
   "execution_count": null,
   "metadata": {},
   "outputs": [],
   "source": []
  },
  {
   "cell_type": "markdown",
   "metadata": {},
   "source": [
    "Another problem is case—we want to count 'but' and 'But' as the same. Use the `lower()` method that can be used to covert this string:"
   ]
  },
  {
   "cell_type": "code",
   "execution_count": null,
   "metadata": {},
   "outputs": [],
   "source": []
  },
  {
   "cell_type": "markdown",
   "metadata": {},
   "source": [
    "Create a dictionary that uses the unique words as keys and has as a value the number of times that word appears.\n",
    "Write a loop over the words in the string (using our split version) and do the following:\n",
    "- remove any punctuation\n",
    "- convert to lowercase\n",
    "- test if the word is already a key in the dictionary (using the in operator)\n",
    "    * if the key exists, increment the word count for that key\n",
    "    * otherwise, add it to the dictionary with the appropiate count of 1.\n",
    "    \n",
    "At the end, print out the words and a count of how many times they appear"
   ]
  },
  {
   "cell_type": "code",
   "execution_count": null,
   "metadata": {},
   "outputs": [],
   "source": [
    "# Your code here"
   ]
  },
  {
   "cell_type": "markdown",
   "metadata": {},
   "source": [
    "We can actually do this a lot more compactly by using another python datatype called a set. A set is a group of items, where each item is unique (e.g., no repetitions).\n",
    "\n",
    "\n",
    "Using the `set()` function, turn the list of words into a set, removing any duplicates:"
   ]
  },
  {
   "cell_type": "code",
   "execution_count": null,
   "metadata": {},
   "outputs": [],
   "source": []
  },
  {
   "cell_type": "markdown",
   "metadata": {},
   "source": [
    "Now loop over the unique words and use the `count` method of a list to find how many there are:"
   ]
  },
  {
   "cell_type": "code",
   "execution_count": null,
   "metadata": {},
   "outputs": [],
   "source": []
  },
  {
   "cell_type": "markdown",
   "metadata": {},
   "source": [
    "## Dictionary sorting \n",
    "\n",
    "The python `sorted` method can be used to lists, dictionaries, tuples etc. For example, if we sort a list of words:"
   ]
  },
  {
   "cell_type": "code",
   "execution_count": null,
   "metadata": {},
   "outputs": [],
   "source": [
    "sorted(['hippo', 'aadvark', 'elephant', 'zebra', 'buffalo'])"
   ]
  },
  {
   "cell_type": "markdown",
   "metadata": {},
   "source": [
    "If we try running sorted on a dictionary, then its default behavior is to sort the keys:"
   ]
  },
  {
   "cell_type": "code",
   "execution_count": null,
   "metadata": {},
   "outputs": [],
   "source": [
    "fruit_dict = {'banana': 0.65, 'apple': 0.3, 'watermelon': 2.1, 'kiwi':0.5, 'grape':0.05}\n",
    "sorted(fruit_dict)"
   ]
  },
  {
   "cell_type": "markdown",
   "metadata": {},
   "source": [
    "What if we want to sort this dictionary instead by the values? We can do this by passing in a function to `sorted` function which takes an item (a key, value tuple) as an argument and returns the value to be used in the comparison. So if we want to sort this list by value, we'd do:"
   ]
  },
  {
   "cell_type": "code",
   "execution_count": null,
   "metadata": {},
   "outputs": [],
   "source": [
    "def compare(i):\n",
    "    k, v = i\n",
    "    return v\n",
    "\n",
    "sorted(fruit_dict.items(), key=compare)"
   ]
  },
  {
   "cell_type": "markdown",
   "metadata": {},
   "source": [
    "Try this on the dictionary of words you created for the previous exercise to find the 5 most common words. \n",
    "\n",
    "Hint: you can reverse the sorting order so it goes from high to low by passing in the keyword argument `reverse=True` to the `sorted` function."
   ]
  },
  {
   "cell_type": "code",
   "execution_count": null,
   "metadata": {},
   "outputs": [],
   "source": [
    "# Your code here"
   ]
  },
  {
   "cell_type": "markdown",
   "metadata": {},
   "source": [
    "## Houston, we have a problem\n",
    "\n",
    "Below I have a function that takes a city name (a string) and a dictionary of different cities and their populations, and returns a string describing the city."
   ]
  },
  {
   "cell_type": "code",
   "execution_count": null,
   "metadata": {},
   "outputs": [],
   "source": [
    "def city_pop(city, cities_dict):\n",
    "    return \"{} has a population of {}\".format(city, cities_dict[city])"
   ]
  },
  {
   "cell_type": "markdown",
   "metadata": {},
   "source": [
    "This works fine if the city is in the dictionary, however if it is not we get a `KeyError`:"
   ]
  },
  {
   "cell_type": "code",
   "execution_count": null,
   "metadata": {},
   "outputs": [],
   "source": [
    "cities = {'London': 8787892, 'New York': 8.623e6, 'Paris': 2.141e6, 'Los Angeles': 4e6}"
   ]
  },
  {
   "cell_type": "code",
   "execution_count": null,
   "metadata": {},
   "outputs": [],
   "source": [
    "city_pop('London', cities)"
   ]
  },
  {
   "cell_type": "code",
   "execution_count": null,
   "metadata": {},
   "outputs": [],
   "source": [
    "city_pop('Houston', cities)"
   ]
  },
  {
   "cell_type": "markdown",
   "metadata": {},
   "source": [
    "Your task is to make a new version of the function `city_pop` that behaves more intelligently that simply raising a `KeyError` if it cannot find the city. Here are a few suggestions for things you could try adding, but feel free to come up with your own improvements:\n",
    "- check that the city is a string (what happens if you tried giving the function a number instead of a real city name?)\n",
    "- if the function cannot find the city in the dictionary, print a (helpful!) message to the user that the city cannot be found\n",
    "- even better: if the city cannot be found, ask the user if they'd like to add a new city to the dictionary. If so, make sure to ask for the population."
   ]
  },
  {
   "cell_type": "code",
   "execution_count": null,
   "metadata": {},
   "outputs": [],
   "source": [
    "# Your code goes here"
   ]
  },
  {
   "cell_type": "code",
   "execution_count": null,
   "metadata": {},
   "outputs": [],
   "source": []
  },
  {
   "cell_type": "markdown",
   "metadata": {},
   "source": [
    "## Fixing Fibonacci"
   ]
  },
  {
   "cell_type": "markdown",
   "metadata": {},
   "source": [
    "When we learnt about recursion on Friday, we saw how to compute Fibonacci numbers *recursively*.\n",
    "\n",
    "This can be a a very efficient way of calculating one-off Fibonacci numbers (especially in non-Python, functional languages), however it becomes very costly if we are calculating many numbers in the Fibonacci series."
   ]
  },
  {
   "cell_type": "markdown",
   "metadata": {},
   "source": [
    "### Memoization\n",
    "\n",
    "Think of what it means to write a memo. Usually this is done in businesses, where someone will write a memo to get information across to others in the same organization. If you write a memo to yourself, you're writing a reminder to yourself so that you don't have to keep thinking about it, and can refer back to it when needed. \n",
    "\n",
    "In Python, we can write a memo within our code so that it doesn't have to recalculate operations, but rather store them in memory. We can do this using dictionaries! This is a wonderful solution to our recursion problem, as we can store the values of the nth Fibonacci number. Rather than having to reculate all the Fibonacci numbers $< n$ every time we want to calculate the $n$th Fibonacci number, we will instead first check to see if we've already calculated the number and return that. "
   ]
  },
  {
   "cell_type": "code",
   "execution_count": null,
   "metadata": {},
   "outputs": [],
   "source": [
    "# Before memoization\n",
    "def fib(n):\n",
    "    if n <= 2:\n",
    "        return 1\n",
    "    else:\n",
    "        return fib(n-1) + fib(n-2)\n",
    "    \n",
    "for n in range(1,38):\n",
    "    print(n, \":\", fib(n))"
   ]
  },
  {
   "cell_type": "code",
   "execution_count": null,
   "metadata": {},
   "outputs": [],
   "source": [
    "# Create a list to store Fibonacci numbers\n",
    "fib_list = {}\n",
    "\n",
    "def fib(n):\n",
    "    # if we find nth number in our list keys, we return the value stored for that n\n",
    "    if n in fib_list:\n",
    "        return fib_list[n]\n",
    "    \n",
    "    if n <= 2:\n",
    "        value = 1\n",
    "    else:\n",
    "        value = fib(n-1) + fib(n-2)\n",
    "    \n",
    "    # finally we return the value of the nth Fibonacci number we looked for \n",
    "    fib_list[n] = value\n",
    "    return value\n",
    "\n",
    "for n in range(1,101):\n",
    "    fib(n)"
   ]
  },
  {
   "cell_type": "markdown",
   "metadata": {},
   "source": [
    "### The Shooting Method\n",
    "\n",
    "Write a similar function to compute the n-th term in the sequence given by $f(i+1) = - V(i) \\cdot f(i) - f(i - 1)$, where $V$ is a function (which we'll call *potential*).  \n",
    "Assume that $f(0) = 2$ and $f(1) = 1$.\n",
    "\n",
    "This equation comes up in *quantum mechanics*, where we interpret $(f_i)^2$ as the relative likelihood of seeing a particle at position $i$ in a grid at steady state and where $V(i)$ is the potential energy at point $i$.  An example $V$ has been provided, though any function is ok, as long as it is strictly non-negative."
   ]
  },
  {
   "cell_type": "code",
   "execution_count": null,
   "metadata": {},
   "outputs": [],
   "source": [
    "end_point = 20\n",
    "def potential(i):\n",
    "    return i*2/100;\n",
    "# This corresponds to the potential energy of a spring!"
   ]
  },
  {
   "cell_type": "code",
   "execution_count": null,
   "metadata": {},
   "outputs": [],
   "source": []
  },
  {
   "cell_type": "markdown",
   "metadata": {},
   "source": [
    "If you run this code for many steps, you may start to notice the values becoming very very large.  If our initial conditions for $f(0)$ and $f(1)$ are physically realizable, continuing this computation will not cause this explosion.  Instead, the values will tend to 0.  As a result, by varying our initial condition until the computation at large values stabilizes, we can find physical states of quantum systems\n",
    "\n",
    "This is often called a *shooting method* for finding solutions to problems."
   ]
  },
  {
   "cell_type": "markdown",
   "metadata": {},
   "source": [
    "Here, try to memo-ize your recursive code, much as is done above for Fibonacci"
   ]
  },
  {
   "cell_type": "code",
   "execution_count": null,
   "metadata": {},
   "outputs": [],
   "source": []
  },
  {
   "cell_type": "markdown",
   "metadata": {},
   "source": [
    "### Another exercise!\n",
    "\n",
    "Let `num_ways(n)` be the number of ways to write a nonnegative integer `n` as the sum of positive integers.  For example, there are 8 ways of writing 4:  \n",
    "- 1 + 1 + 1 + 1\n",
    "- 2 + 1 + 1\n",
    "- 1 + 2 + 1\n",
    "- 1 + 1 + 2\n",
    "- 2 + 2\n",
    "- 1 + 3\n",
    "- 3 + 1\n",
    "- 4\n",
    "\n",
    "One can show by induction that `num_ways(n)` = $2^{n−1}$, but let’s see how to calculate it using recursion and memoization. Below is a recursive implementation without memoization:"
   ]
  },
  {
   "cell_type": "code",
   "execution_count": null,
   "metadata": {},
   "outputs": [],
   "source": [
    "def num_ways(n):\n",
    "    if n == 0:\n",
    "        return 1\n",
    "    ans = 0\n",
    "    for i in range(1, n+1):\n",
    "        ans += num_ways(n-i)\n",
    "    return ans"
   ]
  },
  {
   "cell_type": "markdown",
   "metadata": {},
   "source": [
    "Try to implement this using memoization:"
   ]
  },
  {
   "cell_type": "code",
   "execution_count": null,
   "metadata": {},
   "outputs": [],
   "source": []
  }
 ],
 "metadata": {
  "kernelspec": {
   "display_name": "Python 3",
   "language": "python",
   "name": "python3"
  },
  "language_info": {
   "codemirror_mode": {
    "name": "ipython",
    "version": 3
   },
   "file_extension": ".py",
   "mimetype": "text/x-python",
   "name": "python",
   "nbconvert_exporter": "python",
   "pygments_lexer": "ipython3",
   "version": "3.6.9"
  }
 },
 "nbformat": 4,
 "nbformat_minor": 2
}
